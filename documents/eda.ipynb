{
 "cells": [
  {
   "cell_type": "code",
   "execution_count": 1,
   "id": "2d14b8a3",
   "metadata": {},
   "outputs": [],
   "source": [
    "import numpy as np\n",
    "import pandas as pd\n",
    "\n",
    "import matplotlib.pyplot as plt\n",
    "import seaborn as sns\n",
    "\n",
    "from typing import List"
   ]
  },
  {
   "cell_type": "code",
   "execution_count": 2,
   "id": "66b8023e",
   "metadata": {},
   "outputs": [],
   "source": [
    "data_1 = pd.read_csv(\"./customer-product-dynamics/customer-product-dynamics/transactions_1.csv\", index_col=0)\n",
    "data_2 = pd.read_csv(\"./customer-product-dynamics/customer-product-dynamics/transactions_2.csv\", index_col=0)\n"
   ]
  },
  {
   "cell_type": "code",
   "execution_count": 3,
   "id": "5b64045c",
   "metadata": {},
   "outputs": [
    {
     "data": {
      "text/plain": [
       "((500000, 3), (475955, 3))"
      ]
     },
     "execution_count": 3,
     "metadata": {},
     "output_type": "execute_result"
    }
   ],
   "source": [
    "data_1.shape, data_2.shape"
   ]
  },
  {
   "cell_type": "code",
   "execution_count": 4,
   "id": "6f8e3183",
   "metadata": {},
   "outputs": [
    {
     "data": {
      "text/html": [
       "<div>\n",
       "<style scoped>\n",
       "    .dataframe tbody tr th:only-of-type {\n",
       "        vertical-align: middle;\n",
       "    }\n",
       "\n",
       "    .dataframe tbody tr th {\n",
       "        vertical-align: top;\n",
       "    }\n",
       "\n",
       "    .dataframe thead th {\n",
       "        text-align: right;\n",
       "    }\n",
       "</style>\n",
       "<table border=\"1\" class=\"dataframe\">\n",
       "  <thead>\n",
       "    <tr style=\"text-align: right;\">\n",
       "      <th></th>\n",
       "      <th>customer_id</th>\n",
       "      <th>product_id</th>\n",
       "      <th>date</th>\n",
       "    </tr>\n",
       "  </thead>\n",
       "  <tbody>\n",
       "    <tr>\n",
       "      <th>0</th>\n",
       "      <td>6689489</td>\n",
       "      <td>0A4G5LZWCP</td>\n",
       "      <td>2017-01-31T09:31:08.873Z</td>\n",
       "    </tr>\n",
       "    <tr>\n",
       "      <th>1</th>\n",
       "      <td>6689489</td>\n",
       "      <td>XZ6UVEYK40</td>\n",
       "      <td>2017-02-03T16:59:16.610Z</td>\n",
       "    </tr>\n",
       "    <tr>\n",
       "      <th>2</th>\n",
       "      <td>6689489</td>\n",
       "      <td>XZ6UVEYK40</td>\n",
       "      <td>2017-02-05T19:47:55.353Z</td>\n",
       "    </tr>\n",
       "    <tr>\n",
       "      <th>3</th>\n",
       "      <td>6689489</td>\n",
       "      <td>XZ6UVEYK40</td>\n",
       "      <td>2017-02-05T19:48:14.633Z</td>\n",
       "    </tr>\n",
       "    <tr>\n",
       "      <th>4</th>\n",
       "      <td>6689489</td>\n",
       "      <td>XZ6UVEYK40</td>\n",
       "      <td>2017-02-06T09:59:49.053Z</td>\n",
       "    </tr>\n",
       "  </tbody>\n",
       "</table>\n",
       "</div>"
      ],
      "text/plain": [
       "   customer_id  product_id                      date\n",
       "0      6689489  0A4G5LZWCP  2017-01-31T09:31:08.873Z\n",
       "1      6689489  XZ6UVEYK40  2017-02-03T16:59:16.610Z\n",
       "2      6689489  XZ6UVEYK40  2017-02-05T19:47:55.353Z\n",
       "3      6689489  XZ6UVEYK40  2017-02-05T19:48:14.633Z\n",
       "4      6689489  XZ6UVEYK40  2017-02-06T09:59:49.053Z"
      ]
     },
     "execution_count": 4,
     "metadata": {},
     "output_type": "execute_result"
    }
   ],
   "source": [
    "data_1.head()"
   ]
  },
  {
   "cell_type": "code",
   "execution_count": 5,
   "id": "3d1a11bb",
   "metadata": {},
   "outputs": [
    {
     "data": {
      "text/html": [
       "<div>\n",
       "<style scoped>\n",
       "    .dataframe tbody tr th:only-of-type {\n",
       "        vertical-align: middle;\n",
       "    }\n",
       "\n",
       "    .dataframe tbody tr th {\n",
       "        vertical-align: top;\n",
       "    }\n",
       "\n",
       "    .dataframe thead th {\n",
       "        text-align: right;\n",
       "    }\n",
       "</style>\n",
       "<table border=\"1\" class=\"dataframe\">\n",
       "  <thead>\n",
       "    <tr style=\"text-align: right;\">\n",
       "      <th></th>\n",
       "      <th>customer_id</th>\n",
       "      <th>product_id</th>\n",
       "      <th>date</th>\n",
       "    </tr>\n",
       "  </thead>\n",
       "  <tbody>\n",
       "    <tr>\n",
       "      <th>500000</th>\n",
       "      <td>5055762</td>\n",
       "      <td>FA7OOL7Z3T</td>\n",
       "      <td>2018-06-28T09:19:11.130Z</td>\n",
       "    </tr>\n",
       "    <tr>\n",
       "      <th>500001</th>\n",
       "      <td>5055762</td>\n",
       "      <td>G5HEPH9A2T</td>\n",
       "      <td>2019-07-17T08:06:29.500Z</td>\n",
       "    </tr>\n",
       "    <tr>\n",
       "      <th>500002</th>\n",
       "      <td>5055762</td>\n",
       "      <td>GJROWT9RPV</td>\n",
       "      <td>2017-06-22T07:29:22.440Z</td>\n",
       "    </tr>\n",
       "    <tr>\n",
       "      <th>500003</th>\n",
       "      <td>5055762</td>\n",
       "      <td>GJROWT9RPV</td>\n",
       "      <td>2017-06-22T07:50:10.863Z</td>\n",
       "    </tr>\n",
       "    <tr>\n",
       "      <th>500004</th>\n",
       "      <td>5055762</td>\n",
       "      <td>GJROWT9RPV</td>\n",
       "      <td>2017-06-22T08:40:35.923Z</td>\n",
       "    </tr>\n",
       "  </tbody>\n",
       "</table>\n",
       "</div>"
      ],
      "text/plain": [
       "        customer_id  product_id                      date\n",
       "500000      5055762  FA7OOL7Z3T  2018-06-28T09:19:11.130Z\n",
       "500001      5055762  G5HEPH9A2T  2019-07-17T08:06:29.500Z\n",
       "500002      5055762  GJROWT9RPV  2017-06-22T07:29:22.440Z\n",
       "500003      5055762  GJROWT9RPV  2017-06-22T07:50:10.863Z\n",
       "500004      5055762  GJROWT9RPV  2017-06-22T08:40:35.923Z"
      ]
     },
     "execution_count": 5,
     "metadata": {},
     "output_type": "execute_result"
    }
   ],
   "source": [
    "data_2.head()"
   ]
  },
  {
   "cell_type": "code",
   "execution_count": 6,
   "id": "9bd1606a",
   "metadata": {},
   "outputs": [],
   "source": [
    "customers_data_1 = data_1[\"customer_id\"].unique()"
   ]
  },
  {
   "cell_type": "code",
   "execution_count": 7,
   "id": "3530ec2c",
   "metadata": {},
   "outputs": [],
   "source": [
    "customers_data_2 = data_2[\"customer_id\"].unique()"
   ]
  },
  {
   "cell_type": "code",
   "execution_count": 8,
   "id": "baadc38a",
   "metadata": {},
   "outputs": [
    {
     "data": {
      "text/plain": [
       "[5055762]"
      ]
     },
     "execution_count": 8,
     "metadata": {},
     "output_type": "execute_result"
    }
   ],
   "source": [
    "repeated_customer = []\n",
    "for i in customers_data_1:\n",
    "    for j in customers_data_2:\n",
    "        if i == j:\n",
    "            repeated_customer.append(i)\n",
    "\n",
    "repeated_customer\n",
    "    "
   ]
  },
  {
   "cell_type": "code",
   "execution_count": 9,
   "id": "39137631",
   "metadata": {},
   "outputs": [
    {
     "data": {
      "text/plain": [
       "(975955, 3)"
      ]
     },
     "execution_count": 9,
     "metadata": {},
     "output_type": "execute_result"
    }
   ],
   "source": [
    "total_data = pd.concat([data_1, data_2], axis=0)\n",
    "total_data.shape"
   ]
  },
  {
   "cell_type": "code",
   "execution_count": 26,
   "id": "b69ec5bc",
   "metadata": {},
   "outputs": [
    {
     "data": {
      "text/html": [
       "<div>\n",
       "<style scoped>\n",
       "    .dataframe tbody tr th:only-of-type {\n",
       "        vertical-align: middle;\n",
       "    }\n",
       "\n",
       "    .dataframe tbody tr th {\n",
       "        vertical-align: top;\n",
       "    }\n",
       "\n",
       "    .dataframe thead th {\n",
       "        text-align: right;\n",
       "    }\n",
       "</style>\n",
       "<table border=\"1\" class=\"dataframe\">\n",
       "  <thead>\n",
       "    <tr style=\"text-align: right;\">\n",
       "      <th></th>\n",
       "      <th>customer_id</th>\n",
       "      <th>product_id</th>\n",
       "      <th>date</th>\n",
       "    </tr>\n",
       "  </thead>\n",
       "  <tbody>\n",
       "    <tr>\n",
       "      <th>0</th>\n",
       "      <td>6689489</td>\n",
       "      <td>0A4G5LZWCP</td>\n",
       "      <td>2017-01-31T09:31:08.873Z</td>\n",
       "    </tr>\n",
       "    <tr>\n",
       "      <th>1</th>\n",
       "      <td>6689489</td>\n",
       "      <td>XZ6UVEYK40</td>\n",
       "      <td>2017-02-03T16:59:16.610Z</td>\n",
       "    </tr>\n",
       "    <tr>\n",
       "      <th>2</th>\n",
       "      <td>6689489</td>\n",
       "      <td>XZ6UVEYK40</td>\n",
       "      <td>2017-02-05T19:47:55.353Z</td>\n",
       "    </tr>\n",
       "    <tr>\n",
       "      <th>3</th>\n",
       "      <td>6689489</td>\n",
       "      <td>XZ6UVEYK40</td>\n",
       "      <td>2017-02-05T19:48:14.633Z</td>\n",
       "    </tr>\n",
       "    <tr>\n",
       "      <th>4</th>\n",
       "      <td>6689489</td>\n",
       "      <td>XZ6UVEYK40</td>\n",
       "      <td>2017-02-06T09:59:49.053Z</td>\n",
       "    </tr>\n",
       "    <tr>\n",
       "      <th>...</th>\n",
       "      <td>...</td>\n",
       "      <td>...</td>\n",
       "      <td>...</td>\n",
       "    </tr>\n",
       "    <tr>\n",
       "      <th>975950</th>\n",
       "      <td>9770266</td>\n",
       "      <td>5RPSDK28JR</td>\n",
       "      <td>2019-05-17T10:06:43.037Z</td>\n",
       "    </tr>\n",
       "    <tr>\n",
       "      <th>975951</th>\n",
       "      <td>2552305</td>\n",
       "      <td>5RPSDK28JR</td>\n",
       "      <td>2017-10-27T17:49:54.483Z</td>\n",
       "    </tr>\n",
       "    <tr>\n",
       "      <th>975952</th>\n",
       "      <td>6004163</td>\n",
       "      <td>I2IYFZIO6X</td>\n",
       "      <td>2019-01-09T16:31:08.133Z</td>\n",
       "    </tr>\n",
       "    <tr>\n",
       "      <th>975953</th>\n",
       "      <td>6632569</td>\n",
       "      <td>0A4G5LZWCP</td>\n",
       "      <td>2017-03-29T16:25:05.907Z</td>\n",
       "    </tr>\n",
       "    <tr>\n",
       "      <th>975954</th>\n",
       "      <td>9277279</td>\n",
       "      <td>5RPSDK28JR</td>\n",
       "      <td>2020-03-16T22:39:59.247Z</td>\n",
       "    </tr>\n",
       "  </tbody>\n",
       "</table>\n",
       "<p>975955 rows × 3 columns</p>\n",
       "</div>"
      ],
      "text/plain": [
       "        customer_id  product_id                      date\n",
       "0           6689489  0A4G5LZWCP  2017-01-31T09:31:08.873Z\n",
       "1           6689489  XZ6UVEYK40  2017-02-03T16:59:16.610Z\n",
       "2           6689489  XZ6UVEYK40  2017-02-05T19:47:55.353Z\n",
       "3           6689489  XZ6UVEYK40  2017-02-05T19:48:14.633Z\n",
       "4           6689489  XZ6UVEYK40  2017-02-06T09:59:49.053Z\n",
       "...             ...         ...                       ...\n",
       "975950      9770266  5RPSDK28JR  2019-05-17T10:06:43.037Z\n",
       "975951      2552305  5RPSDK28JR  2017-10-27T17:49:54.483Z\n",
       "975952      6004163  I2IYFZIO6X  2019-01-09T16:31:08.133Z\n",
       "975953      6632569  0A4G5LZWCP  2017-03-29T16:25:05.907Z\n",
       "975954      9277279  5RPSDK28JR  2020-03-16T22:39:59.247Z\n",
       "\n",
       "[975955 rows x 3 columns]"
      ]
     },
     "execution_count": 26,
     "metadata": {},
     "output_type": "execute_result"
    }
   ],
   "source": [
    "total_data"
   ]
  },
  {
   "cell_type": "code",
   "execution_count": 29,
   "id": "96ee8ed7",
   "metadata": {},
   "outputs": [],
   "source": [
    "total_data = total_data.rename(columns={\"date\": \"timestamp\"})\n",
    "# Convert the 'Timestamp' column to datetime\n",
    "total_data['timestamp'] = pd.to_datetime(total_data['timestamp'])"
   ]
  },
  {
   "cell_type": "code",
   "execution_count": 30,
   "id": "1b61c375",
   "metadata": {},
   "outputs": [
    {
     "data": {
      "text/html": [
       "<div>\n",
       "<style scoped>\n",
       "    .dataframe tbody tr th:only-of-type {\n",
       "        vertical-align: middle;\n",
       "    }\n",
       "\n",
       "    .dataframe tbody tr th {\n",
       "        vertical-align: top;\n",
       "    }\n",
       "\n",
       "    .dataframe thead th {\n",
       "        text-align: right;\n",
       "    }\n",
       "</style>\n",
       "<table border=\"1\" class=\"dataframe\">\n",
       "  <thead>\n",
       "    <tr style=\"text-align: right;\">\n",
       "      <th></th>\n",
       "      <th>customer_id</th>\n",
       "      <th>product_id</th>\n",
       "      <th>timestamp</th>\n",
       "    </tr>\n",
       "  </thead>\n",
       "  <tbody>\n",
       "    <tr>\n",
       "      <th>0</th>\n",
       "      <td>6689489</td>\n",
       "      <td>0A4G5LZWCP</td>\n",
       "      <td>2017-01-31 09:31:08.873000+00:00</td>\n",
       "    </tr>\n",
       "    <tr>\n",
       "      <th>1</th>\n",
       "      <td>6689489</td>\n",
       "      <td>XZ6UVEYK40</td>\n",
       "      <td>2017-02-03 16:59:16.610000+00:00</td>\n",
       "    </tr>\n",
       "    <tr>\n",
       "      <th>2</th>\n",
       "      <td>6689489</td>\n",
       "      <td>XZ6UVEYK40</td>\n",
       "      <td>2017-02-05 19:47:55.353000+00:00</td>\n",
       "    </tr>\n",
       "    <tr>\n",
       "      <th>3</th>\n",
       "      <td>6689489</td>\n",
       "      <td>XZ6UVEYK40</td>\n",
       "      <td>2017-02-05 19:48:14.633000+00:00</td>\n",
       "    </tr>\n",
       "    <tr>\n",
       "      <th>4</th>\n",
       "      <td>6689489</td>\n",
       "      <td>XZ6UVEYK40</td>\n",
       "      <td>2017-02-06 09:59:49.053000+00:00</td>\n",
       "    </tr>\n",
       "    <tr>\n",
       "      <th>...</th>\n",
       "      <td>...</td>\n",
       "      <td>...</td>\n",
       "      <td>...</td>\n",
       "    </tr>\n",
       "    <tr>\n",
       "      <th>975950</th>\n",
       "      <td>9770266</td>\n",
       "      <td>5RPSDK28JR</td>\n",
       "      <td>2019-05-17 10:06:43.037000+00:00</td>\n",
       "    </tr>\n",
       "    <tr>\n",
       "      <th>975951</th>\n",
       "      <td>2552305</td>\n",
       "      <td>5RPSDK28JR</td>\n",
       "      <td>2017-10-27 17:49:54.483000+00:00</td>\n",
       "    </tr>\n",
       "    <tr>\n",
       "      <th>975952</th>\n",
       "      <td>6004163</td>\n",
       "      <td>I2IYFZIO6X</td>\n",
       "      <td>2019-01-09 16:31:08.133000+00:00</td>\n",
       "    </tr>\n",
       "    <tr>\n",
       "      <th>975953</th>\n",
       "      <td>6632569</td>\n",
       "      <td>0A4G5LZWCP</td>\n",
       "      <td>2017-03-29 16:25:05.907000+00:00</td>\n",
       "    </tr>\n",
       "    <tr>\n",
       "      <th>975954</th>\n",
       "      <td>9277279</td>\n",
       "      <td>5RPSDK28JR</td>\n",
       "      <td>2020-03-16 22:39:59.247000+00:00</td>\n",
       "    </tr>\n",
       "  </tbody>\n",
       "</table>\n",
       "<p>975955 rows × 3 columns</p>\n",
       "</div>"
      ],
      "text/plain": [
       "        customer_id  product_id                        timestamp\n",
       "0           6689489  0A4G5LZWCP 2017-01-31 09:31:08.873000+00:00\n",
       "1           6689489  XZ6UVEYK40 2017-02-03 16:59:16.610000+00:00\n",
       "2           6689489  XZ6UVEYK40 2017-02-05 19:47:55.353000+00:00\n",
       "3           6689489  XZ6UVEYK40 2017-02-05 19:48:14.633000+00:00\n",
       "4           6689489  XZ6UVEYK40 2017-02-06 09:59:49.053000+00:00\n",
       "...             ...         ...                              ...\n",
       "975950      9770266  5RPSDK28JR 2019-05-17 10:06:43.037000+00:00\n",
       "975951      2552305  5RPSDK28JR 2017-10-27 17:49:54.483000+00:00\n",
       "975952      6004163  I2IYFZIO6X 2019-01-09 16:31:08.133000+00:00\n",
       "975953      6632569  0A4G5LZWCP 2017-03-29 16:25:05.907000+00:00\n",
       "975954      9277279  5RPSDK28JR 2020-03-16 22:39:59.247000+00:00\n",
       "\n",
       "[975955 rows x 3 columns]"
      ]
     },
     "execution_count": 30,
     "metadata": {},
     "output_type": "execute_result"
    }
   ],
   "source": [
    "total_data"
   ]
  },
  {
   "cell_type": "code",
   "execution_count": 31,
   "id": "2baece90",
   "metadata": {},
   "outputs": [
    {
     "name": "stdout",
     "output_type": "stream",
     "text": [
      "      customer_id  total_sales\n",
      "0         1000178          111\n",
      "1         1000692          348\n",
      "2         1000821           64\n",
      "3         1004714           34\n",
      "4         1005470           39\n",
      "...           ...          ...\n",
      "1997      9974841           52\n",
      "1998      9976006           68\n",
      "1999      9978245          610\n",
      "2000      9997425           16\n",
      "2001      9998153           32\n",
      "\n",
      "[2002 rows x 2 columns]\n"
     ]
    }
   ],
   "source": [
    "total_sales_per_customer = total_data.groupby('customer_id').size().reset_index(name='total_sales')\n",
    "print(total_sales_per_customer)\n"
   ]
  },
  {
   "cell_type": "code",
   "execution_count": 32,
   "id": "6c6b6d0b",
   "metadata": {},
   "outputs": [
    {
     "name": "stdout",
     "output_type": "stream",
     "text": [
      "    product_id  total_sales\n",
      "0   0A4G5LZWCP        82930\n",
      "1   0AB7PTAD3X         4218\n",
      "2   0HLIWH0CA1        41003\n",
      "3   0UZVWTQ50H            7\n",
      "4   0W3289OYXV          771\n",
      "5   2O4Z94LNOH         1040\n",
      "6   5PCWS3EUMP            7\n",
      "7   5Q7TNFLZP0          517\n",
      "8   5RPSDK28JR       201916\n",
      "9   7JJJCPI5I1          208\n",
      "10  8AK5LRZ5VT         1188\n",
      "11  8G3QVND4G4         4797\n",
      "12  8U5TGHTE3K           99\n",
      "13  AZZNRHR3YP         2918\n",
      "14  COSLJ5LVBV         3058\n",
      "15  FA7OOL7Z3T        29438\n",
      "16  G5HEPH9A2T        85551\n",
      "17  GJROWT9RPV        46581\n",
      "18  H6I7VPD3HT         1553\n",
      "19  HGJK5XE5G5           15\n",
      "20  I2IYFZIO6X        42566\n",
      "21  K7UMH2OQR5         1495\n",
      "22  KBPHROW5HR            4\n",
      "23  LAPLMIIN3W           63\n",
      "24  LH62FHO1A6          609\n",
      "25  LPQH18YYNM         1471\n",
      "26  MCFYUL8ZJD            6\n",
      "27  MWXFAKV7Y0        36963\n",
      "28  MXCNLTSVHH          204\n",
      "29  MYK4H73OQB         1415\n",
      "30  O66JVFS978        52725\n",
      "31  P7UUH8Z9N9           58\n",
      "32  PVAPE5GNLE        14496\n",
      "33  R8EZYK63TN           89\n",
      "34  RKQNX5PHI1            5\n",
      "35  RSVSIRNTSZ         8351\n",
      "36  RZ1BJ9ZV9C        17953\n",
      "37  SG1EXRRGE2         4786\n",
      "38  STKA6MQ10S            7\n",
      "39  VD51ZQPY9D        70418\n",
      "40  WLD5DLYFB0         2644\n",
      "41  WS7C94TZ6U          549\n",
      "42  X7R6XY5T33           11\n",
      "43  XD4I34ED7F        57626\n",
      "44  XZ6UVEYK40        87190\n",
      "45  YRRT480XIZ         1295\n",
      "46  Z4N23EOA13        42723\n",
      "47  Z6OHD7VB3J            3\n",
      "48  ZH8YQX1ZL2         5510\n",
      "49  ZWL2RHU5YP        16905\n"
     ]
    }
   ],
   "source": [
    "total_sales_per_product = total_data.groupby('product_id').size().reset_index(name='total_sales')\n",
    "print(total_sales_per_product)"
   ]
  },
  {
   "cell_type": "code",
   "execution_count": 33,
   "id": "91b4cfba",
   "metadata": {},
   "outputs": [
    {
     "name": "stdout",
     "output_type": "stream",
     "text": [
      "      month  total_sales\n",
      "0   2017-01        12459\n",
      "1   2017-02        32986\n",
      "2   2017-03        37451\n",
      "3   2017-04        24347\n",
      "4   2017-05        42609\n",
      "5   2017-06        60730\n",
      "6   2017-07        44717\n",
      "7   2017-08        36690\n",
      "8   2017-09        41564\n",
      "9   2017-10        57570\n",
      "10  2017-11        49303\n",
      "11  2017-12        14467\n",
      "12  2018-01        12895\n",
      "13  2018-02        14834\n",
      "14  2018-03        13041\n",
      "15  2018-04        10361\n",
      "16  2018-05        19663\n",
      "17  2018-06        31572\n",
      "18  2018-07        31109\n",
      "19  2018-08        19463\n",
      "20  2018-09        21029\n",
      "21  2018-10        41075\n",
      "22  2018-11        29286\n",
      "23  2018-12        32478\n",
      "24  2019-01        30439\n",
      "25  2019-02        14011\n",
      "26  2019-03        21977\n",
      "27  2019-04        15797\n",
      "28  2019-05        20536\n",
      "29  2019-06        17967\n",
      "30  2019-07        21369\n",
      "31  2019-08        15947\n",
      "32  2019-09        14768\n",
      "33  2019-10        18500\n",
      "34  2019-11        17171\n",
      "35  2019-12        11080\n",
      "36  2020-01        11085\n",
      "37  2020-02         9187\n",
      "38  2020-03         4422\n"
     ]
    },
    {
     "name": "stderr",
     "output_type": "stream",
     "text": [
      "/tmp/ipykernel_663/2255372716.py:2: UserWarning: Converting to PeriodArray/Index representation will drop timezone information.\n",
      "  total_data['month'] = total_data['timestamp'].dt.to_period('M')\n"
     ]
    }
   ],
   "source": [
    "total_data['timestamp'] = pd.to_datetime(total_data['timestamp'])\n",
    "total_data['month'] = total_data['timestamp'].dt.to_period('M')\n",
    "total_sales_per_month = total_data.groupby('month').size().reset_index(name='total_sales')\n",
    "print(total_sales_per_month)"
   ]
  },
  {
   "cell_type": "code",
   "execution_count": 34,
   "id": "8f0e7d22",
   "metadata": {},
   "outputs": [
    {
     "name": "stdout",
     "output_type": "stream",
     "text": [
      "       customer_id  product_id  total_sales\n",
      "0          1000178  0A4G5LZWCP           20\n",
      "1          1000178  5RPSDK28JR           32\n",
      "2          1000178  FA7OOL7Z3T           12\n",
      "3          1000178  G5HEPH9A2T            7\n",
      "4          1000178  GJROWT9RPV            3\n",
      "...            ...         ...          ...\n",
      "21825      9997425  RSVSIRNTSZ            1\n",
      "21826      9997425  RZ1BJ9ZV9C            1\n",
      "21827      9997425  XZ6UVEYK40            1\n",
      "21828      9998153  VD51ZQPY9D           22\n",
      "21829      9998153  XZ6UVEYK40           10\n",
      "\n",
      "[21830 rows x 3 columns]\n"
     ]
    }
   ],
   "source": [
    "total_sales_per_customer_product = total_data.groupby(['customer_id', 'product_id']).size().reset_index(name='total_sales')\n",
    "print(total_sales_per_customer_product)\n"
   ]
  },
  {
   "cell_type": "code",
   "execution_count": 17,
   "id": "b58923e6",
   "metadata": {},
   "outputs": [
    {
     "data": {
      "text/html": [
       "<div>\n",
       "<style scoped>\n",
       "    .dataframe tbody tr th:only-of-type {\n",
       "        vertical-align: middle;\n",
       "    }\n",
       "\n",
       "    .dataframe tbody tr th {\n",
       "        vertical-align: top;\n",
       "    }\n",
       "\n",
       "    .dataframe thead th {\n",
       "        text-align: right;\n",
       "    }\n",
       "</style>\n",
       "<table border=\"1\" class=\"dataframe\">\n",
       "  <thead>\n",
       "    <tr style=\"text-align: right;\">\n",
       "      <th></th>\n",
       "      <th>customer_id</th>\n",
       "      <th>product_id</th>\n",
       "      <th>timestamp</th>\n",
       "      <th>month</th>\n",
       "      <th>year</th>\n",
       "      <th>day</th>\n",
       "    </tr>\n",
       "  </thead>\n",
       "  <tbody>\n",
       "    <tr>\n",
       "      <th>0</th>\n",
       "      <td>6689489</td>\n",
       "      <td>0A4G5LZWCP</td>\n",
       "      <td>2017-01-31 09:31:08.873000+00:00</td>\n",
       "      <td>1</td>\n",
       "      <td>2017</td>\n",
       "      <td>31</td>\n",
       "    </tr>\n",
       "    <tr>\n",
       "      <th>1</th>\n",
       "      <td>6689489</td>\n",
       "      <td>XZ6UVEYK40</td>\n",
       "      <td>2017-02-03 16:59:16.610000+00:00</td>\n",
       "      <td>2</td>\n",
       "      <td>2017</td>\n",
       "      <td>3</td>\n",
       "    </tr>\n",
       "    <tr>\n",
       "      <th>2</th>\n",
       "      <td>6689489</td>\n",
       "      <td>XZ6UVEYK40</td>\n",
       "      <td>2017-02-05 19:47:55.353000+00:00</td>\n",
       "      <td>2</td>\n",
       "      <td>2017</td>\n",
       "      <td>5</td>\n",
       "    </tr>\n",
       "    <tr>\n",
       "      <th>3</th>\n",
       "      <td>6689489</td>\n",
       "      <td>XZ6UVEYK40</td>\n",
       "      <td>2017-02-05 19:48:14.633000+00:00</td>\n",
       "      <td>2</td>\n",
       "      <td>2017</td>\n",
       "      <td>5</td>\n",
       "    </tr>\n",
       "    <tr>\n",
       "      <th>4</th>\n",
       "      <td>6689489</td>\n",
       "      <td>XZ6UVEYK40</td>\n",
       "      <td>2017-02-06 09:59:49.053000+00:00</td>\n",
       "      <td>2</td>\n",
       "      <td>2017</td>\n",
       "      <td>6</td>\n",
       "    </tr>\n",
       "  </tbody>\n",
       "</table>\n",
       "</div>"
      ],
      "text/plain": [
       "   customer_id  product_id                        timestamp  month  year  day\n",
       "0      6689489  0A4G5LZWCP 2017-01-31 09:31:08.873000+00:00      1  2017   31\n",
       "1      6689489  XZ6UVEYK40 2017-02-03 16:59:16.610000+00:00      2  2017    3\n",
       "2      6689489  XZ6UVEYK40 2017-02-05 19:47:55.353000+00:00      2  2017    5\n",
       "3      6689489  XZ6UVEYK40 2017-02-05 19:48:14.633000+00:00      2  2017    5\n",
       "4      6689489  XZ6UVEYK40 2017-02-06 09:59:49.053000+00:00      2  2017    6"
      ]
     },
     "execution_count": 17,
     "metadata": {},
     "output_type": "execute_result"
    }
   ],
   "source": [
    "# Extract year and month for easier analysis\n",
    "total_data['year'] = total_data['timestamp'].dt.year\n",
    "total_data['month'] = total_data['timestamp'].dt.month\n",
    "total_data['day'] = total_data['timestamp'].dt.day\n",
    "total_data.head()"
   ]
  },
  {
   "cell_type": "code",
   "execution_count": 35,
   "id": "e5ebcdbc",
   "metadata": {},
   "outputs": [
    {
     "data": {
      "text/html": [
       "<div>\n",
       "<style scoped>\n",
       "    .dataframe tbody tr th:only-of-type {\n",
       "        vertical-align: middle;\n",
       "    }\n",
       "\n",
       "    .dataframe tbody tr th {\n",
       "        vertical-align: top;\n",
       "    }\n",
       "\n",
       "    .dataframe thead th {\n",
       "        text-align: right;\n",
       "    }\n",
       "</style>\n",
       "<table border=\"1\" class=\"dataframe\">\n",
       "  <thead>\n",
       "    <tr style=\"text-align: right;\">\n",
       "      <th></th>\n",
       "      <th>customer_id</th>\n",
       "      <th>product_id</th>\n",
       "      <th>timestamp</th>\n",
       "      <th>month</th>\n",
       "      <th>date</th>\n",
       "    </tr>\n",
       "  </thead>\n",
       "  <tbody>\n",
       "    <tr>\n",
       "      <th>0</th>\n",
       "      <td>6689489</td>\n",
       "      <td>0A4G5LZWCP</td>\n",
       "      <td>2017-01-31 09:31:08.873000+00:00</td>\n",
       "      <td>2017-01</td>\n",
       "      <td>2017-01-31</td>\n",
       "    </tr>\n",
       "    <tr>\n",
       "      <th>1</th>\n",
       "      <td>6689489</td>\n",
       "      <td>XZ6UVEYK40</td>\n",
       "      <td>2017-02-03 16:59:16.610000+00:00</td>\n",
       "      <td>2017-02</td>\n",
       "      <td>2017-02-03</td>\n",
       "    </tr>\n",
       "    <tr>\n",
       "      <th>2</th>\n",
       "      <td>6689489</td>\n",
       "      <td>XZ6UVEYK40</td>\n",
       "      <td>2017-02-05 19:47:55.353000+00:00</td>\n",
       "      <td>2017-02</td>\n",
       "      <td>2017-02-05</td>\n",
       "    </tr>\n",
       "    <tr>\n",
       "      <th>3</th>\n",
       "      <td>6689489</td>\n",
       "      <td>XZ6UVEYK40</td>\n",
       "      <td>2017-02-05 19:48:14.633000+00:00</td>\n",
       "      <td>2017-02</td>\n",
       "      <td>2017-02-05</td>\n",
       "    </tr>\n",
       "    <tr>\n",
       "      <th>4</th>\n",
       "      <td>6689489</td>\n",
       "      <td>XZ6UVEYK40</td>\n",
       "      <td>2017-02-06 09:59:49.053000+00:00</td>\n",
       "      <td>2017-02</td>\n",
       "      <td>2017-02-06</td>\n",
       "    </tr>\n",
       "  </tbody>\n",
       "</table>\n",
       "</div>"
      ],
      "text/plain": [
       "   customer_id  product_id                        timestamp    month  \\\n",
       "0      6689489  0A4G5LZWCP 2017-01-31 09:31:08.873000+00:00  2017-01   \n",
       "1      6689489  XZ6UVEYK40 2017-02-03 16:59:16.610000+00:00  2017-02   \n",
       "2      6689489  XZ6UVEYK40 2017-02-05 19:47:55.353000+00:00  2017-02   \n",
       "3      6689489  XZ6UVEYK40 2017-02-05 19:48:14.633000+00:00  2017-02   \n",
       "4      6689489  XZ6UVEYK40 2017-02-06 09:59:49.053000+00:00  2017-02   \n",
       "\n",
       "         date  \n",
       "0  2017-01-31  \n",
       "1  2017-02-03  \n",
       "2  2017-02-05  \n",
       "3  2017-02-05  \n",
       "4  2017-02-06  "
      ]
     },
     "execution_count": 35,
     "metadata": {},
     "output_type": "execute_result"
    }
   ],
   "source": [
    "total_data['date'] = total_data['timestamp'].dt.date \n",
    "total_data.head()"
   ]
  },
  {
   "cell_type": "code",
   "execution_count": 36,
   "id": "779b5308",
   "metadata": {},
   "outputs": [
    {
     "data": {
      "text/plain": [
       "customer_id                  int64\n",
       "product_id                  object\n",
       "timestamp      datetime64[ns, UTC]\n",
       "month                    period[M]\n",
       "date                        object\n",
       "dtype: object"
      ]
     },
     "execution_count": 36,
     "metadata": {},
     "output_type": "execute_result"
    }
   ],
   "source": [
    "total_data.dtypes"
   ]
  },
  {
   "cell_type": "code",
   "execution_count": 33,
   "id": "e68aa1b2",
   "metadata": {},
   "outputs": [
    {
     "name": "stdout",
     "output_type": "stream",
     "text": [
      "        customer_id  product_id  day  month  year  total_sales\n",
      "0           1000178  0A4G5LZWCP   15      9  2017           11\n",
      "1           1000178  0A4G5LZWCP   25      8  2017            5\n",
      "2           1000178  0A4G5LZWCP   27      3  2017            1\n",
      "3           1000178  0A4G5LZWCP   28      3  2017            2\n",
      "4           1000178  0A4G5LZWCP   28      8  2017            1\n",
      "...             ...         ...  ...    ...   ...          ...\n",
      "299570      9998153  VD51ZQPY9D   12      9  2019           20\n",
      "299571      9998153  XZ6UVEYK40    5      5  2019            3\n",
      "299572      9998153  XZ6UVEYK40   19      7  2019            2\n",
      "299573      9998153  XZ6UVEYK40   20      7  2019            1\n",
      "299574      9998153  XZ6UVEYK40   22      7  2019            4\n",
      "\n",
      "[299575 rows x 6 columns]\n"
     ]
    }
   ],
   "source": [
    "total_sales_per_customer_product_day = total_data.groupby(['customer_id', 'product_id', 'day', 'month', 'year']).size().reset_index(name='total_sales')\n",
    "print(total_sales_per_customer_product_day)"
   ]
  },
  {
   "cell_type": "code",
   "execution_count": 37,
   "id": "28a36907",
   "metadata": {},
   "outputs": [],
   "source": [
    "total_data[\"date\"] = total_data['timestamp'].dt.date"
   ]
  },
  {
   "cell_type": "code",
   "execution_count": 40,
   "id": "3c606a42",
   "metadata": {},
   "outputs": [
    {
     "name": "stdout",
     "output_type": "stream",
     "text": [
      "        customer_id  product_id  day  month  year  total_sales\n",
      "0           1000178  0A4G5LZWCP   15      9  2017           11\n",
      "1           1000178  0A4G5LZWCP   25      8  2017            5\n",
      "2           1000178  0A4G5LZWCP   27      3  2017            1\n",
      "3           1000178  0A4G5LZWCP   28      3  2017            2\n",
      "4           1000178  0A4G5LZWCP   28      8  2017            1\n",
      "...             ...         ...  ...    ...   ...          ...\n",
      "299570      9998153  VD51ZQPY9D   12      9  2019           20\n",
      "299571      9998153  XZ6UVEYK40    5      5  2019            3\n",
      "299572      9998153  XZ6UVEYK40   19      7  2019            2\n",
      "299573      9998153  XZ6UVEYK40   20      7  2019            1\n",
      "299574      9998153  XZ6UVEYK40   22      7  2019            4\n",
      "\n",
      "[299575 rows x 6 columns]\n"
     ]
    }
   ],
   "source": [
    "total_sales_per_customer_product_day = total_data.groupby(['customer_id', 'product_id', 'day', 'month', 'year']).size().reset_index(name='total_sales')\n",
    "print(total_sales_per_customer_product_day)"
   ]
  },
  {
   "cell_type": "code",
   "execution_count": 31,
   "id": "4e764add",
   "metadata": {},
   "outputs": [],
   "source": [
    "data = pd.concat([data_1, data_2], axis=0)\n",
    "data['date'] = pd.to_datetime(data['date'] )\n",
    "data['date'] = data['date'].dt.date"
   ]
  },
  {
   "cell_type": "code",
   "execution_count": 32,
   "id": "29ae3f0b",
   "metadata": {},
   "outputs": [
    {
     "data": {
      "text/plain": [
       "customer_id    object\n",
       "product_id     object\n",
       "date           object\n",
       "dtype: object"
      ]
     },
     "execution_count": 32,
     "metadata": {},
     "output_type": "execute_result"
    }
   ],
   "source": [
    "data[\"customer_id\"] = data[\"customer_id\"].astype(str)\n",
    "data.dtypes"
   ]
  },
  {
   "cell_type": "code",
   "execution_count": 33,
   "id": "ed5982b9",
   "metadata": {},
   "outputs": [
    {
     "name": "stdout",
     "output_type": "stream",
     "text": [
      "       customer_id  product_id        date  sales\n",
      "0          1000178  0A4G5LZWCP  2017-03-27      1\n",
      "1          1000178  0A4G5LZWCP  2017-03-28      2\n",
      "2          1000178  0A4G5LZWCP  2017-08-25      5\n",
      "3          1000178  0A4G5LZWCP  2017-08-28      1\n",
      "4          1000178  0A4G5LZWCP  2017-09-15     11\n",
      "...            ...         ...         ...    ...\n",
      "299570     9998153  VD51ZQPY9D  2019-09-12     20\n",
      "299571     9998153  XZ6UVEYK40  2019-05-05      3\n",
      "299572     9998153  XZ6UVEYK40  2019-07-19      2\n",
      "299573     9998153  XZ6UVEYK40  2019-07-20      1\n",
      "299574     9998153  XZ6UVEYK40  2019-07-22      4\n",
      "\n",
      "[299575 rows x 4 columns]\n"
     ]
    }
   ],
   "source": [
    "total_sales_per_customer_product_day = data.groupby(['customer_id', 'product_id', 'date']).size().reset_index(name='sales')\n",
    "print(total_sales_per_customer_product_day)"
   ]
  },
  {
   "cell_type": "code",
   "execution_count": 34,
   "id": "6953d288",
   "metadata": {},
   "outputs": [
    {
     "data": {
      "text/plain": [
       "customer_id     object\n",
       "product_id      object\n",
       "date            object\n",
       "sales          float64\n",
       "dtype: object"
      ]
     },
     "execution_count": 34,
     "metadata": {},
     "output_type": "execute_result"
    }
   ],
   "source": [
    "total_sales_per_customer_product_day[\"sales\"] = total_sales_per_customer_product_day[\"sales\"].astype('float')\n",
    "total_sales_per_customer_product_day.dtypes"
   ]
  },
  {
   "cell_type": "code",
   "execution_count": 35,
   "id": "475d60a9",
   "metadata": {},
   "outputs": [
    {
     "name": "stderr",
     "output_type": "stream",
     "text": [
      "/tmp/ipykernel_6527/1720518107.py:1: FutureWarning: The default value of numeric_only in DataFrame.quantile is deprecated. In a future version, it will default to False. Select only valid columns or specify the value of numeric_only to silence this warning.\n",
      "  total_sales_per_customer_product_day.quantile([0, 0.05, 0.50, 0.95, 0.99, 1]).T\n"
     ]
    },
    {
     "data": {
      "text/html": [
       "<div>\n",
       "<style scoped>\n",
       "    .dataframe tbody tr th:only-of-type {\n",
       "        vertical-align: middle;\n",
       "    }\n",
       "\n",
       "    .dataframe tbody tr th {\n",
       "        vertical-align: top;\n",
       "    }\n",
       "\n",
       "    .dataframe thead th {\n",
       "        text-align: right;\n",
       "    }\n",
       "</style>\n",
       "<table border=\"1\" class=\"dataframe\">\n",
       "  <thead>\n",
       "    <tr style=\"text-align: right;\">\n",
       "      <th></th>\n",
       "      <th>0.00</th>\n",
       "      <th>0.05</th>\n",
       "      <th>0.50</th>\n",
       "      <th>0.95</th>\n",
       "      <th>0.99</th>\n",
       "      <th>1.00</th>\n",
       "    </tr>\n",
       "  </thead>\n",
       "  <tbody>\n",
       "    <tr>\n",
       "      <th>sales</th>\n",
       "      <td>1.0</td>\n",
       "      <td>1.0</td>\n",
       "      <td>2.0</td>\n",
       "      <td>11.0</td>\n",
       "      <td>24.0</td>\n",
       "      <td>208.0</td>\n",
       "    </tr>\n",
       "  </tbody>\n",
       "</table>\n",
       "</div>"
      ],
      "text/plain": [
       "       0.00  0.05  0.50  0.95  0.99   1.00\n",
       "sales   1.0   1.0   2.0  11.0  24.0  208.0"
      ]
     },
     "execution_count": 35,
     "metadata": {},
     "output_type": "execute_result"
    }
   ],
   "source": [
    "total_sales_per_customer_product_day.quantile([0, 0.05, 0.50, 0.95, 0.99, 1]).T"
   ]
  },
  {
   "cell_type": "code",
   "execution_count": 36,
   "id": "bef6994a",
   "metadata": {},
   "outputs": [],
   "source": [
    "# total_sales_per_customer_product_day = total_data.groupby(['customer_id', 'product_id', 'day', 'month', 'year', 'date']).size().reset_index(name='total_sales')\n",
    "# print(total_sales_per_customer_product_day)"
   ]
  },
  {
   "cell_type": "code",
   "execution_count": 37,
   "id": "536d70dd",
   "metadata": {},
   "outputs": [],
   "source": [
    "total_sales_per_customer_product_day.to_csv(\"prepared_sales_data.csv\", index=False)"
   ]
  },
  {
   "cell_type": "code",
   "execution_count": 38,
   "id": "f5e9fa74",
   "metadata": {},
   "outputs": [
    {
     "data": {
      "text/html": [
       "<div>\n",
       "<style scoped>\n",
       "    .dataframe tbody tr th:only-of-type {\n",
       "        vertical-align: middle;\n",
       "    }\n",
       "\n",
       "    .dataframe tbody tr th {\n",
       "        vertical-align: top;\n",
       "    }\n",
       "\n",
       "    .dataframe thead th {\n",
       "        text-align: right;\n",
       "    }\n",
       "</style>\n",
       "<table border=\"1\" class=\"dataframe\">\n",
       "  <thead>\n",
       "    <tr style=\"text-align: right;\">\n",
       "      <th></th>\n",
       "      <th>customer_id</th>\n",
       "      <th>product_id</th>\n",
       "      <th>date</th>\n",
       "      <th>sales</th>\n",
       "    </tr>\n",
       "  </thead>\n",
       "  <tbody>\n",
       "    <tr>\n",
       "      <th>0</th>\n",
       "      <td>1000178</td>\n",
       "      <td>0A4G5LZWCP</td>\n",
       "      <td>2017-03-27</td>\n",
       "      <td>1.0</td>\n",
       "    </tr>\n",
       "    <tr>\n",
       "      <th>1</th>\n",
       "      <td>1000178</td>\n",
       "      <td>0A4G5LZWCP</td>\n",
       "      <td>2017-03-28</td>\n",
       "      <td>2.0</td>\n",
       "    </tr>\n",
       "    <tr>\n",
       "      <th>2</th>\n",
       "      <td>1000178</td>\n",
       "      <td>0A4G5LZWCP</td>\n",
       "      <td>2017-08-25</td>\n",
       "      <td>5.0</td>\n",
       "    </tr>\n",
       "    <tr>\n",
       "      <th>3</th>\n",
       "      <td>1000178</td>\n",
       "      <td>0A4G5LZWCP</td>\n",
       "      <td>2017-08-28</td>\n",
       "      <td>1.0</td>\n",
       "    </tr>\n",
       "    <tr>\n",
       "      <th>4</th>\n",
       "      <td>1000178</td>\n",
       "      <td>0A4G5LZWCP</td>\n",
       "      <td>2017-09-15</td>\n",
       "      <td>11.0</td>\n",
       "    </tr>\n",
       "    <tr>\n",
       "      <th>...</th>\n",
       "      <td>...</td>\n",
       "      <td>...</td>\n",
       "      <td>...</td>\n",
       "      <td>...</td>\n",
       "    </tr>\n",
       "    <tr>\n",
       "      <th>299570</th>\n",
       "      <td>9998153</td>\n",
       "      <td>VD51ZQPY9D</td>\n",
       "      <td>2019-09-12</td>\n",
       "      <td>20.0</td>\n",
       "    </tr>\n",
       "    <tr>\n",
       "      <th>299571</th>\n",
       "      <td>9998153</td>\n",
       "      <td>XZ6UVEYK40</td>\n",
       "      <td>2019-05-05</td>\n",
       "      <td>3.0</td>\n",
       "    </tr>\n",
       "    <tr>\n",
       "      <th>299572</th>\n",
       "      <td>9998153</td>\n",
       "      <td>XZ6UVEYK40</td>\n",
       "      <td>2019-07-19</td>\n",
       "      <td>2.0</td>\n",
       "    </tr>\n",
       "    <tr>\n",
       "      <th>299573</th>\n",
       "      <td>9998153</td>\n",
       "      <td>XZ6UVEYK40</td>\n",
       "      <td>2019-07-20</td>\n",
       "      <td>1.0</td>\n",
       "    </tr>\n",
       "    <tr>\n",
       "      <th>299574</th>\n",
       "      <td>9998153</td>\n",
       "      <td>XZ6UVEYK40</td>\n",
       "      <td>2019-07-22</td>\n",
       "      <td>4.0</td>\n",
       "    </tr>\n",
       "  </tbody>\n",
       "</table>\n",
       "<p>299575 rows × 4 columns</p>\n",
       "</div>"
      ],
      "text/plain": [
       "       customer_id  product_id        date  sales\n",
       "0          1000178  0A4G5LZWCP  2017-03-27    1.0\n",
       "1          1000178  0A4G5LZWCP  2017-03-28    2.0\n",
       "2          1000178  0A4G5LZWCP  2017-08-25    5.0\n",
       "3          1000178  0A4G5LZWCP  2017-08-28    1.0\n",
       "4          1000178  0A4G5LZWCP  2017-09-15   11.0\n",
       "...            ...         ...         ...    ...\n",
       "299570     9998153  VD51ZQPY9D  2019-09-12   20.0\n",
       "299571     9998153  XZ6UVEYK40  2019-05-05    3.0\n",
       "299572     9998153  XZ6UVEYK40  2019-07-19    2.0\n",
       "299573     9998153  XZ6UVEYK40  2019-07-20    1.0\n",
       "299574     9998153  XZ6UVEYK40  2019-07-22    4.0\n",
       "\n",
       "[299575 rows x 4 columns]"
      ]
     },
     "execution_count": 38,
     "metadata": {},
     "output_type": "execute_result"
    }
   ],
   "source": [
    "total_sales_per_customer_product_day[\"date\"] = total_sales_per_customer_product_day[\"date\"].astype(str)\n",
    "total_sales_per_customer_product_day"
   ]
  },
  {
   "cell_type": "code",
   "execution_count": 34,
   "id": "f16b03b8",
   "metadata": {},
   "outputs": [
    {
     "name": "stdout",
     "output_type": "stream",
     "text": [
      "        customer_id  day  month  year  total_sales\n",
      "0           1000178    4     10  2018           10\n",
      "1           1000178    5      9  2017            2\n",
      "2           1000178    7      9  2017            1\n",
      "3           1000178    9      9  2017            1\n",
      "4           1000178   15      9  2017           11\n",
      "...             ...  ...    ...   ...          ...\n",
      "141992      9998153   10      9  2019            2\n",
      "141993      9998153   12      9  2019           20\n",
      "141994      9998153   19      7  2019            2\n",
      "141995      9998153   20      7  2019            1\n",
      "141996      9998153   22      7  2019            4\n",
      "\n",
      "[141997 rows x 5 columns]\n"
     ]
    }
   ],
   "source": [
    "total_sales_per_customer_day= total_data.groupby(['customer_id', 'day', 'month', 'year']).size().reset_index(name='total_sales')\n",
    "print(total_sales_per_customer_day)"
   ]
  },
  {
   "cell_type": "code",
   "execution_count": null,
   "id": "3f5db27b",
   "metadata": {},
   "outputs": [],
   "source": [
    "df_unique_customers = total_data[['customer_id']].drop_duplicates()\n",
    "df_unique_customers"
   ]
  },
  {
   "cell_type": "code",
   "execution_count": null,
   "id": "ec4cfd6f",
   "metadata": {},
   "outputs": [],
   "source": [
    "transactions_per_customer = total_data.groupby('customer_id')['product_id'].count().sort_values(ascending=False)\n",
    "transactions_per_customer.index = transactions_per_customer.index.map(str)"
   ]
  },
  {
   "cell_type": "code",
   "execution_count": null,
   "id": "8bd1ebe5",
   "metadata": {},
   "outputs": [],
   "source": [
    "# Plotting (limit to top 30 customers for better readability)\n",
    "top_n = 30\n",
    "plt.figure(figsize=(12, 8))\n",
    "plt.bar(transactions_per_customer.index[:top_n], transactions_per_customer.values[:top_n])\n",
    "plt.ylabel('Total Transactions')\n",
    "plt.xlabel('Customer ID')\n",
    "plt.xticks(rotation=90)\n",
    "plt.title('Total Transactions per Customer (Top 30)')\n",
    "plt.show()"
   ]
  },
  {
   "cell_type": "code",
   "execution_count": null,
   "id": "527d102f",
   "metadata": {},
   "outputs": [],
   "source": [
    "total_data[\"product_id\"].unique()"
   ]
  },
  {
   "cell_type": "code",
   "execution_count": null,
   "id": "63aaa768",
   "metadata": {},
   "outputs": [],
   "source": [
    "product_id = \"0A4G5LZWCP\"\n",
    "product_data = total_data[total_data[\"product_id\"] == product_id]\n",
    "monthly_product_data = product_data[\"month\"].value_counts().sort_index()\n",
    "yearly_product_data = product_data[\"year\"].value_counts().sort_index()\n",
    "yearly_product_data"
   ]
  },
  {
   "cell_type": "code",
   "execution_count": null,
   "id": "b2976459",
   "metadata": {},
   "outputs": [],
   "source": [
    "# Plot the data\n",
    "plt.figure(figsize=(10, 6))\n",
    "monthly_product_data.plot(kind='bar')\n",
    "plt.xlabel('Month')\n",
    "plt.ylabel('Number of Transactions')\n",
    "plt.title(f'Transaction Frequency per Month for Product {product_id} in 2018')\n",
    "plt.show()"
   ]
  },
  {
   "cell_type": "code",
   "execution_count": null,
   "id": "f3faabdb",
   "metadata": {},
   "outputs": [],
   "source": [
    "# Plot the data\n",
    "plt.figure(figsize=(10, 6))\n",
    "yearly_product_data.plot(kind='bar')\n",
    "plt.xlabel('Year')\n",
    "plt.ylabel('Number of Transactions')\n",
    "plt.title(f'Transaction Frequency per Year')\n",
    "plt.show()"
   ]
  },
  {
   "cell_type": "code",
   "execution_count": null,
   "id": "a42003b9",
   "metadata": {},
   "outputs": [],
   "source": [
    "total_product_orders = total_data.groupby(['customer_id', 'product_id', 'year']).size().reset_index(name='TotalOrders')\n",
    "total_product_orders"
   ]
  },
  {
   "cell_type": "code",
   "execution_count": null,
   "id": "a60daaa8",
   "metadata": {},
   "outputs": [],
   "source": [
    "# Function to calculate day_of_season_number\n",
    "def get_season_day(date):\n",
    "    year = date.year\n",
    "    seasons = {\n",
    "        'spring': pd.date_range(start=f'{year}-03-01', end=f'{year}-05-31'),\n",
    "        'summer': pd.date_range(start=f'{year}-06-01', end=f'{year}-08-31'),\n",
    "        'autumn': pd.date_range(start=f'{year}-09-01', end=f'{year}-11-30'),\n",
    "        'winter': pd.date_range(start=f'{year}-12-01', end=f'{year+1}-02-28')  # includes Dec to Feb next year\n",
    "    }\n",
    "    for season, dates in seasons.items():\n",
    "        if date in dates:\n",
    "            return (date - dates[0]).days + 1\n"
   ]
  },
  {
   "cell_type": "code",
   "execution_count": null,
   "id": "b7a7a02a",
   "metadata": {},
   "outputs": [],
   "source": [
    "# df = total_data\n",
    "\n",
    "# # Calculate day_of_week_number\n",
    "# df['day_of_week_number'] = df['timestamp'].dt.dayofweek\n",
    "\n",
    "# # Calculate day_of_month_number\n",
    "# df['day_of_month_number'] = df['timestamp'].dt.day\n",
    "\n",
    "# # Calculate day_of_year_number\n",
    "# df['day_of_year_number'] = df['timestamp'].dt.dayofyear\n",
    "\n",
    "# # Calculate month_of_year_number\n",
    "# df['month_of_year_number'] = df['timestamp'].dt.month\n",
    "\n",
    "# # Calculate day_of_season_number\n",
    "# df['day_of_season_number'] = df['timestamp'].apply(get_season_day)\n",
    "\n",
    "# df"
   ]
  },
  {
   "cell_type": "code",
   "execution_count": 22,
   "id": "7a158434",
   "metadata": {},
   "outputs": [
    {
     "data": {
      "text/plain": [
       "product_id     object\n",
       "store_id       object\n",
       "date           object\n",
       "sales         float64\n",
       "dtype: object"
      ]
     },
     "execution_count": 22,
     "metadata": {},
     "output_type": "execute_result"
    }
   ],
   "source": [
    "old = pd.read_csv(\"data_trc.csv\")\n",
    "old.dtypes"
   ]
  },
  {
   "cell_type": "code",
   "execution_count": null,
   "id": "c7fb990c",
   "metadata": {},
   "outputs": [],
   "source": []
  }
 ],
 "metadata": {
  "kernelspec": {
   "display_name": "deploymlm",
   "language": "python",
   "name": "deploymlm"
  },
  "language_info": {
   "codemirror_mode": {
    "name": "ipython",
    "version": 3
   },
   "file_extension": ".py",
   "mimetype": "text/x-python",
   "name": "python",
   "nbconvert_exporter": "python",
   "pygments_lexer": "ipython3",
   "version": "3.8.12"
  }
 },
 "nbformat": 4,
 "nbformat_minor": 5
}
